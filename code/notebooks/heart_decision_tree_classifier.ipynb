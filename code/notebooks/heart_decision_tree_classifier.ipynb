{
 "cells": [
  {
   "cell_type": "markdown",
   "metadata": {},
   "source": [
    "# Predicting Heart Disease"
   ]
  },
  {
   "cell_type": "code",
   "execution_count": 1,
   "metadata": {
    "tags": [
     "hide"
    ]
   },
   "outputs": [],
   "source": [
    "import numpy as np\n",
    "import pandas as pd\n",
    "import copy\n",
    "import json\n",
    "from pandas.api.types import is_string_dtype\n",
    "from pandas.api.types import is_numeric_dtype"
   ]
  },
  {
   "cell_type": "markdown",
   "metadata": {
    "tags": [
     "hide"
    ]
   },
   "source": [
    "## Read in Data"
   ]
  },
  {
   "cell_type": "code",
   "execution_count": 2,
   "metadata": {
    "tags": [
     "hide"
    ]
   },
   "outputs": [
    {
     "data": {
      "text/html": [
       "<div>\n",
       "<style scoped>\n",
       "    .dataframe tbody tr th:only-of-type {\n",
       "        vertical-align: middle;\n",
       "    }\n",
       "\n",
       "    .dataframe tbody tr th {\n",
       "        vertical-align: top;\n",
       "    }\n",
       "\n",
       "    .dataframe thead th {\n",
       "        text-align: right;\n",
       "    }\n",
       "</style>\n",
       "<table border=\"1\" class=\"dataframe\">\n",
       "  <thead>\n",
       "    <tr style=\"text-align: right;\">\n",
       "      <th></th>\n",
       "      <th>age</th>\n",
       "      <th>sex</th>\n",
       "      <th>cp</th>\n",
       "      <th>trestbps</th>\n",
       "      <th>chol</th>\n",
       "      <th>fbs</th>\n",
       "      <th>restecg</th>\n",
       "      <th>thalach</th>\n",
       "      <th>exang</th>\n",
       "      <th>oldpeak</th>\n",
       "      <th>slope</th>\n",
       "      <th>ca</th>\n",
       "      <th>thal</th>\n",
       "      <th>target</th>\n",
       "    </tr>\n",
       "  </thead>\n",
       "  <tbody>\n",
       "    <tr>\n",
       "      <th>0</th>\n",
       "      <td>63</td>\n",
       "      <td>1</td>\n",
       "      <td>3</td>\n",
       "      <td>145</td>\n",
       "      <td>233</td>\n",
       "      <td>1</td>\n",
       "      <td>0</td>\n",
       "      <td>150</td>\n",
       "      <td>0</td>\n",
       "      <td>2.3</td>\n",
       "      <td>0</td>\n",
       "      <td>0</td>\n",
       "      <td>1</td>\n",
       "      <td>1</td>\n",
       "    </tr>\n",
       "    <tr>\n",
       "      <th>1</th>\n",
       "      <td>37</td>\n",
       "      <td>1</td>\n",
       "      <td>2</td>\n",
       "      <td>130</td>\n",
       "      <td>250</td>\n",
       "      <td>0</td>\n",
       "      <td>1</td>\n",
       "      <td>187</td>\n",
       "      <td>0</td>\n",
       "      <td>3.5</td>\n",
       "      <td>0</td>\n",
       "      <td>0</td>\n",
       "      <td>2</td>\n",
       "      <td>1</td>\n",
       "    </tr>\n",
       "    <tr>\n",
       "      <th>2</th>\n",
       "      <td>41</td>\n",
       "      <td>0</td>\n",
       "      <td>1</td>\n",
       "      <td>130</td>\n",
       "      <td>204</td>\n",
       "      <td>0</td>\n",
       "      <td>0</td>\n",
       "      <td>172</td>\n",
       "      <td>0</td>\n",
       "      <td>1.4</td>\n",
       "      <td>2</td>\n",
       "      <td>0</td>\n",
       "      <td>2</td>\n",
       "      <td>1</td>\n",
       "    </tr>\n",
       "    <tr>\n",
       "      <th>3</th>\n",
       "      <td>56</td>\n",
       "      <td>1</td>\n",
       "      <td>1</td>\n",
       "      <td>120</td>\n",
       "      <td>236</td>\n",
       "      <td>0</td>\n",
       "      <td>1</td>\n",
       "      <td>178</td>\n",
       "      <td>0</td>\n",
       "      <td>0.8</td>\n",
       "      <td>2</td>\n",
       "      <td>0</td>\n",
       "      <td>2</td>\n",
       "      <td>1</td>\n",
       "    </tr>\n",
       "    <tr>\n",
       "      <th>4</th>\n",
       "      <td>57</td>\n",
       "      <td>0</td>\n",
       "      <td>0</td>\n",
       "      <td>120</td>\n",
       "      <td>354</td>\n",
       "      <td>0</td>\n",
       "      <td>1</td>\n",
       "      <td>163</td>\n",
       "      <td>1</td>\n",
       "      <td>0.6</td>\n",
       "      <td>2</td>\n",
       "      <td>0</td>\n",
       "      <td>2</td>\n",
       "      <td>1</td>\n",
       "    </tr>\n",
       "  </tbody>\n",
       "</table>\n",
       "</div>"
      ],
      "text/plain": [
       "   age  sex  cp  trestbps  chol  fbs  restecg  thalach  exang  oldpeak  slope  \\\n",
       "0   63    1   3       145   233    1        0      150      0      2.3      0   \n",
       "1   37    1   2       130   250    0        1      187      0      3.5      0   \n",
       "2   41    0   1       130   204    0        0      172      0      1.4      2   \n",
       "3   56    1   1       120   236    0        1      178      0      0.8      2   \n",
       "4   57    0   0       120   354    0        1      163      1      0.6      2   \n",
       "\n",
       "   ca  thal  target  \n",
       "0   0     1       1  \n",
       "1   0     2       1  \n",
       "2   0     2       1  \n",
       "3   0     2       1  \n",
       "4   0     2       1  "
      ]
     },
     "execution_count": 2,
     "metadata": {},
     "output_type": "execute_result"
    }
   ],
   "source": [
    "# https://www.kaggle.com/ronitf/heart-disease-uci?select=heart.csv\n",
    "\n",
    "heart_disease = pd.read_csv(\"../../datasets/heart.csv\")\n",
    "heart_disease.head()"
   ]
  },
  {
   "cell_type": "markdown",
   "metadata": {
    "tags": [
     "hide"
    ]
   },
   "source": [
    "## Brief Cleaning"
   ]
  },
  {
   "cell_type": "code",
   "execution_count": 3,
   "metadata": {
    "tags": [
     "hide"
    ]
   },
   "outputs": [],
   "source": [
    "heart_disease = heart_disease.rename(columns={'target': 'disease_present'})"
   ]
  },
  {
   "cell_type": "code",
   "execution_count": 4,
   "metadata": {
    "tags": [
     "hide"
    ]
   },
   "outputs": [],
   "source": [
    "target_col = 'disease_present'\n",
    "# Remove quantitative variables -- for now\n",
    "other_to_drop = ['age', 'trestbps', 'chol', 'thalach', 'oldpeak']\n",
    "t = heart_disease['disease_present']\n",
    "X2 = heart_disease.drop(columns=([target_col] + other_to_drop))"
   ]
  },
  {
   "cell_type": "markdown",
   "metadata": {},
   "source": [
    "## Setting up Decision Tree (for only categorical features/target for now)"
   ]
  },
  {
   "cell_type": "markdown",
   "metadata": {},
   "source": [
    "### We will be implementing a decision tree that uses entropy to determine information gain for deciding when to split. If confused, check out the [introduction on decision trees](https://csc466-team7.github.io/csc466_project/#/introduction)"
   ]
  },
  {
   "cell_type": "markdown",
   "metadata": {},
   "source": [
    "### Entropy\n",
    "\n",
    "Entropy is most commonly associated with a state of disorder, randomness, or uncertainty. Here we use it to find how much our target column is different. Our formula for entropy is:\n",
    "\n",
    "${\\displaystyle \\mathrm {H} {(S)}=\\sum _{y\\in V_Y}{-p(y)\\log _{2}p(y)}}$\n",
    "\n",
    "where `H(S)` is the entropy and `p(y)` is the proportion of occurrences of a given class in y.\n",
    "\n",
    "If we have only 1 class in `y`, then there is no entropy or disorder so the entropy would be 0. We can see this because `p(y) = 1` so we'd have\n",
    "\n",
    "${\\displaystyle \\mathrm {H} {(S)}={-(1)\\log _{2}(1)}}={-1 * 0}={0}$\n",
    "\n",
    "If we have more than 1 class, then we have at least some disorder in our data. If we had only 2 classes of say infinite values and 1 was *Class A* and all others were *Class B* we'd have very low entropy (approaching 0) since nearly all are the same class. Our entropy would be the worst if we had **half and half** between the 2 classes. If we have more classes, say `n`, the worst entropy involves having `1/n` as the proportion of each class in `y`."
   ]
  },
  {
   "cell_type": "code",
   "execution_count": 5,
   "metadata": {
    "tags": [
     "hide"
    ]
   },
   "outputs": [],
   "source": [
    "# Calculates the entropy that exists in Series.\n",
    "def entropy(y):\n",
    "    e = 0\n",
    "    for v in y.unique():\n",
    "        p_v = np.sum(y == v) / len(y)\n",
    "        total = -1 * (p_v * np.log2(p_v))\n",
    "        e += total\n",
    "    return e"
   ]
  },
  {
   "cell_type": "markdown",
   "metadata": {
    "tags": [
     "quiz"
    ]
   },
   "source": [
    "<qinline>\n",
    "\n",
    "<question>\n",
    "\n",
    "Why bother taking the ${\\displaystyle \\mathrm -log _{2}(p(y))}$? Why not just sum the proportion of that class?\n",
    "\n",
    "</question>\n",
    "\n",
    "<answer>\n",
    "\n",
    "- For starters, if we just took ${\\displaystyle \\mathrm p(y)}$ in the sum, the sum would always equal 1. So that doesn't tell is how much randomness we have!\n",
    "- We still want to be able to say only 1 class means 0 entropy. This means if ${\\displaystyle \\mathrm p(y) = 1 -> H(S) = 0}$. This is satisfied as a property of logarithms!\n",
    "- We also want to say equal probabilties across all classes means ${\\displaystyle \\mathrm H(S) = 1}$. This means if we randomly selected 1 observation, it could be any of our `n` classes, which means there is maximum uncertainty for which would be chose. `1` is a convenient number for showing that. With logarithms of any base, this is satisfied with the equation.\n",
    "- The negative sign at the beginning of the equation ensures that as probability increases, our entropy decreases.\n",
    "- Thus, using ${\\displaystyle \\mathrm -log _{2}(p(y))}$ seems to satisfy all of what we want. In all, the logarithm part is what actually tells us the uncertainty of that class. Multiplying by the proportion rescales it for summing later.\n",
    "- For more information, I recommend visiting [here](https://stats.stackexchange.com/questions/87182/what-is-the-role-of-the-logarithm-in-shannons-entropy#:~:text=so%20the%20properties%20of%20logarithm,entropy%20for%20%CE%B1%E2%86%921\\).&text=as%20the%20average%20of%20log,(1%2Fp)%20information.) \n",
    "\n",
    "</answer>\n",
    "\n",
    "</qinline>"
   ]
  },
  {
   "cell_type": "markdown",
   "metadata": {},
   "source": [
    "### Information Gain\n",
    "\n",
    "Entropy tells us, given the target values that are left, how much disorder there is within them. This is a good start. But let's say we are at a node of the tree, `N`, and we are deciding between choosing feature `A` and feature `B` for our next branch of the tree to use. How do we do that?\n",
    "\n",
    "One way is to develop a method to see how much information is gained if we choose feature `A` and how much is gained if we choose feature `B`. We can do this by going through each feature we have left (so `A` and `B` in this case) and finding how much we learn for the related targets. Luckily we have half of what we need to do this already since we now know about *entropy*!\n",
    "\n",
    "Let's say we arbitrarily are looking at feature `B`. Feature `B` has 3 classes, `X`, `Y`, and `Z`. Let's look at `X` first.\n",
    "\n",
    "First we need to find the targets related to where the value of `B = X`. This will be a subset of our current targets, assuming `Y` and `Z` both have at least 1 observation. Once again, if `X`'s targets all consist of only 1 value, we'd say it has very low entropy. We can find how good our entropy is proportional to the other classes by finding the proportion of times `B = X` and multiplying that by the entropy\n",
    "\n",
    "${\\displaystyle \\mathrm Proportional Entropy={p(B = X) * Entropy{(Targets{(B = X)})}}}$\n",
    "\n",
    "We take the proportion of each class within `B` because we care more about the entropy of a class within `B` that has *20x* the number of observations than any other class in `B`. This gives us a relative gain for that class proportional to the other classes.\n",
    "\n",
    "From there, we sum our gains together to find the total entropy for that feature. So how much did we learn if we used feature `B`? Well, we can take our previous entropy before trying to use `B` has our next split and subtract the summed entropy of each each class in `B` from that.\n",
    "\n",
    "${\\displaystyle \\mathrm Gain=OriginalEntropy-{\\sum _{c\\in B_C}}{Proportional Entropy(c)}}$\n",
    "\n",
    "The summed entropy must be less than or equal to the original entropy. For this reason, if our gain is 0, we can stop, since it will never get better."
   ]
  },
  {
   "cell_type": "markdown",
   "metadata": {
    "tags": [
     "quiz"
    ]
   },
   "source": [
    "<qinline>\n",
    "\n",
    "<question>\n",
    "\n",
    "If `Class A` has entropy `0.9` and `Class B` has entropy `0.6` and the entropy disregarding the classes was `1.4`, which class has higher information gain?\n",
    "\n",
    "</question>\n",
    "\n",
    "<answer>\n",
    "\n",
    "`Class B`\n",
    "<br>\n",
    "If we started with an entropy of `1.4` and decreased it to `0.6`, our entropy decreased by `0.8`. For `Class A`, it only decreased by `0.5`. That means we got more information (can make better predictions at this point according to the training data) from `Class B`, since the difference in entropy was higher. \n",
    "\n",
    "</answer>\n",
    "\n",
    "</qinline>"
   ]
  },
  {
   "cell_type": "code",
   "execution_count": 6,
   "metadata": {
    "tags": [
     "hide"
    ]
   },
   "outputs": [],
   "source": [
    "# Calculates information gain of a given feature\n",
    "def gain(y,x):\n",
    "    g = 0\n",
    "    for v in x.unique():\n",
    "        sub_t = y.iloc[np.where(x == v)]\n",
    "        g += (len(sub_t) / len(y)) * entropy(sub_t)\n",
    "    return entropy(y) - g"
   ]
  },
  {
   "cell_type": "markdown",
   "metadata": {},
   "source": [
    "### Selecting the Best Split\n",
    "\n",
    "Now that we have a way to determine the information gain of any given feature, we can go ahead and select the best feature at an arbitrary point in our decision tree. We just need to loop over all features and select the one with the highest gain."
   ]
  },
  {
   "cell_type": "code",
   "execution_count": 7,
   "metadata": {},
   "outputs": [],
   "source": [
    "# Finds the optimal feature and information gain of dataset X\n",
    "def select_split(X,y):\n",
    "    col = None\n",
    "    gr = -1\n",
    "    for c in X.columns:\n",
    "        cur_gain_ratio = gain(y, X[c])\n",
    "        if cur_gain_ratio > gr:\n",
    "            gr = cur_gain_ratio\n",
    "            col = c\n",
    "    return col,gr"
   ]
  },
  {
   "cell_type": "code",
   "execution_count": 8,
   "metadata": {
    "tags": [
     "hide"
    ]
   },
   "outputs": [],
   "source": [
    "# Finds the class with the highest frequency\n",
    "def high_freq_class(y):\n",
    "    v_counts = y.value_counts()\n",
    "    return v_counts.idxmax()"
   ]
  },
  {
   "cell_type": "markdown",
   "metadata": {},
   "source": [
    "## Creating our Tree\n",
    "\n",
    "Now we need to put it all together to make our decision tree. Since trees are naturally recursive, the easiest way to write this is recursively. First, let's discuss our base cases, or when we can stop making new additions to our tree.\n",
    "\n",
    "### Base Cases\n",
    "\n",
    "1. The number of unique classes left in the target is 1. *This means that the entropy of target is 0* so we know what selection to make... the only value in the target left.\n",
    "\n",
    "2. There are no more features. Let's say we have 1 more feature left and so we must select that one. If we have anything left over after that, we have nothing left to split on. Thus, we just make a logical decision and select the class in the target that occurs most often."
   ]
  },
  {
   "cell_type": "markdown",
   "metadata": {
    "tags": [
     "quiz"
    ]
   },
   "source": [
    "<qinline>\n",
    "\n",
    "<question>\n",
    "\n",
    "1. If `Class A` of `Feature 1` has an entropy of `0.3` and `Class X` of `Feature 3` has an entropy of `0.6`, which feature will be selected as the best split? Do we know that for sure?\n",
    "2. Assuming the 2 features had the same original entropy, can we know decide what our best split is between the 2 classes presented (assume no other class of either feature will be better)? If so, which? If not, why?\n",
    "\n",
    "</question>\n",
    "\n",
    "<answer>\n",
    "\n",
    "1. We don't know. We'd need to know the original entropies of both `Feature 1` and `Feature 3` to decide.\n",
    "2. We do now know. `Feature 1`, since it had an lower entropy, must have had a larger decrease in entropy, meaning higher information gained.\n",
    "\n",
    "</answer>\n",
    "\n",
    "</qinline>"
   ]
  },
  {
   "cell_type": "code",
   "execution_count": 9,
   "metadata": {
    "tags": [
     "hide"
    ]
   },
   "outputs": [],
   "source": [
    "def tree_creation(X, y):\n",
    "    if len(y.unique()) == 1:\n",
    "        return y.iloc[0]\n",
    "    \n",
    "    if len(X.columns) == 0:\n",
    "        return high_freq_class(y)\n",
    "    \n",
    "    col, gr = select_split(X, y)\n",
    "    \n",
    "    return tree_creation_main(X, y, col)"
   ]
  },
  {
   "cell_type": "markdown",
   "metadata": {},
   "source": [
    "### Recursive Part\n",
    "\n",
    "At this point, if we haven't hit a base case, we know we've found a valid split for our tree. This means we know want to split our tree into each class of the feature we found. After that, we need to make a new tree with the features left after the selection of this given feature. So the steps are:\n",
    "\n",
    "- Go through each unique class, `c`, in the feature, `B`\n",
    "  - Create a new observation list where the observations (targets and other features) have `B = c` in that observation\n",
    "        indexes = where(B = c)\n",
    "        new_X = X.locate_by_index[indexes]\n",
    "        new_y = y.locate_by_index[indexes]\n",
    "\n",
    "  - Remove feature `B` from our observations\n",
    "      ```\n",
    "      new_X.drop(columns=[col])\n",
    "      ```\n",
    "  - Add to the tree at feature `B` class `c` whose value is a new tree\n",
    "     ```\n",
    "     tree[B][c] = tree(new_X, new_y)\n",
    "     ```"
   ]
  },
  {
   "cell_type": "code",
   "execution_count": 10,
   "metadata": {
    "tags": [
     "hide"
    ]
   },
   "outputs": [],
   "source": [
    "# Creates actual decision tree\n",
    "def tree_creation_main(X,y,col):\n",
    "    tree = {col: {}}\n",
    "\n",
    "    unique_vals = X[col].unique()\n",
    "    \n",
    "    for v in unique_vals:\n",
    "        indexes = np.where(X[col] == v)\n",
    "        new_X = X.iloc[indexes].drop(columns=[col])\n",
    "        new_y = y.iloc[indexes]\n",
    "        tree[col][str(v)] = tree_creation(new_X, new_y)\n",
    "\n",
    "    return tree"
   ]
  },
  {
   "cell_type": "markdown",
   "metadata": {
    "tags": [
     "quiz"
    ]
   },
   "source": [
    "<qinline>\n",
    "\n",
    "<question>\n",
    "\n",
    "Is it possible to generate a tree with no features in it when given a dataset with 5 features with 30 observations? Why?\n",
    "\n",
    "</question>\n",
    "\n",
    "<answer>\n",
    "\n",
    "Yes, if there is only one target class it doesn't matter. That's always what you'd want to predict!\n",
    "\n",
    "</answer>\n",
    "\n",
    "</qinline>"
   ]
  },
  {
   "cell_type": "markdown",
   "metadata": {},
   "source": [
    "### Generating the Rules\n",
    "\n",
    "Now that we have a complete tree, we need to be able to make a new prediction with it. We will do that by following our tree down the branches we have made. If we want to visualize it, we can imagine that each path from the root of our tree down to the leaves of our tree are a rule for how to predict what a given input should output.\n",
    "\n",
    "We can generate a list of all rules by doing a full traversal of the tree. If we hit a leaf, we are at the end of our tree and just return that leaf as the only rule. Otherwise, for each class of a given feature in our tree, we need to make a new rule. This means that each rule should start with the root node and after that may have differences to other rules. Let's refer to the \n",
    "[introduction on decision trees](https://csc466-team7.github.io/csc466_project/#/introduction).\n",
    "\n",
    "\n",
    "Our root node is the feature `Weather`. That has 2 classes, `warm` and `cold`. Then all rules would start with either `Weather = Cold` or `Weather = Warm`. Let's follow the left hand side of the tree. The next part of the rule would be the `Day of the week`. We would make 2 new rules for `Day of the week = weekday` and `Day of the week = weekend`. If we had a prediction with `Weather = Cold, Day of the week = weekday`, then we would want our rule to say that we'd use a `T-shirt`. Remember, all the rules together are just each unique path from the root node to a leaf.\n",
    "\n",
    "\n",
    "```\n",
    "feature = tree\n",
    "\n",
    "if tree.is_leaf():\n",
    "    return tree\n",
    "else:\n",
    "    for class in feature:\n",
    "        branch_step = [feature, class]\n",
    "        return branch_step + find_new_rules(feature[class])\n",
    "```\n",
    "\n",
    "Once we are done, we should have a dictionary or list of rules. Understanding how rules get generated and how to use them to make predictions is important."
   ]
  },
  {
   "cell_type": "markdown",
   "metadata": {
    "tags": [
     "quiz"
    ]
   },
   "source": [
    "<qinline>\n",
    "\n",
    "<question>\n",
    "\n",
    "Do you actually need to generate a ruleset? Can you just make predictions instead using the tree itself?\n",
    "\n",
    "</question>\n",
    "\n",
    "<answer>\n",
    "    \n",
    "Absolutely! The ruleset is a nice visualization of what's going on and shows you the different paths your tree can take. It *may* also make the coding a little easier for the predictions. However, you can certainly use just the tree instead moving forward. After all, the ruleset was just generated from the tree.\n",
    "\n",
    "</answer>\n",
    "\n",
    "</qinline>"
   ]
  },
  {
   "cell_type": "code",
   "execution_count": 11,
   "metadata": {
    "tags": [
     "hide"
    ]
   },
   "outputs": [],
   "source": [
    "# Takes a tree and generates the rules of that tree used to make a prediction\n",
    "def generate_rules(tree):\n",
    "    rules = []\n",
    "    if type(tree) != dict:\n",
    "        return [[tree]]\n",
    "    for col in tree:\n",
    "        for val in tree[col]:\n",
    "            tup = (col, val)\n",
    "            generated_sub_rules = generate_rules(tree[col][val])\n",
    "            for sub_rule in generated_sub_rules:\n",
    "                new_rule = [tup]\n",
    "                new_rule.extend(sub_rule)\n",
    "                rules.append(new_rule)\n",
    "    \n",
    "    return rules"
   ]
  },
  {
   "cell_type": "code",
   "execution_count": 12,
   "metadata": {
    "tags": [
     "hide"
    ]
   },
   "outputs": [],
   "source": [
    "# Returns a predicate of whether a given values matches a given rule's first feature value \n",
    "def eq_rule(val_to_match):\n",
    "    return lambda x: x[0][1] == str(val_to_match)"
   ]
  },
  {
   "cell_type": "markdown",
   "metadata": {},
   "source": [
    "## Making Predictions\n",
    "\n",
    "Finally we are near the end! Now that we have our tree or rules, we can start to make predictions.\n",
    "\n",
    "Let's again refer to the [introduction on decision trees](https://csc466-team7.github.io/csc466_project/#/introduction). Let's say our observation is `x` and contains each feature we used to make our tree. Since `Weather` is our root feature, we need to find what `Weather` in `x`. If `x.Weather` is `warm`, we look at `x.Day of the Week` next. If that is `weekend`, we should pick `Hawaiian shirt`.\n",
    "\n",
    "But what if we get to `x.Weather` and it's `hot`? Then we have no information in our tree of what to do!!! Thus, we will just make our best guess. To do that, we can take a default value that the user provides *or* we can look at the target values up to that point and pick the class in target that occurs the most often. Otherwise, we try and recurse on the sub-tree we get when choosing the related class in the tree. If there is no classes left and we are at a prediction in the tree instead, we just return that prediction.\n",
    "\n",
    "```\n",
    "Input: x - observation\n",
    "       tree - current tree\n",
    "       default - what to return if nothing left in tree\n",
    "\n",
    "if tree.is_leaf():\n",
    "    return tree.value\n",
    "\n",
    "feature_to_use = tree.root\n",
    "observation_class = x[feature_to_use]\n",
    "\n",
    "if observation_class not in tree:\n",
    "    return default\n",
    "\n",
    "return make_prediction(tree.go_to(feature_to_use), x, default)\n",
    "```"
   ]
  },
  {
   "cell_type": "markdown",
   "metadata": {
    "tags": [
     "quiz"
    ]
   },
   "source": [
    "<qinline>\n",
    "\n",
    "<question>\n",
    "\n",
    "Why give a default? The use-case above has an example of when to return it but can you give an example of how it might make it there? Let's say you have the following ruleset:\n",
    "```\n",
    "[[(Gender, Male), 1],\n",
    " [(Gender, Female), 0]]\n",
    "```\n",
    "\n",
    "Give a possible input as `x`, your observation, for getting to the default base-case.\n",
    "\n",
    "</question>\n",
    "\n",
    "<answer>\n",
    "\n",
    "Possible observation:\n",
    "- (Gender = Non-Binary)\n",
    "- (Laugh = Loud)\n",
    "\n",
    "You can either give no classes that match OR you can give a `Gender` that doesn't exist.\n",
    "\n",
    "</answer>\n",
    "\n",
    "</qinline>"
   ]
  },
  {
   "cell_type": "code",
   "execution_count": 16,
   "metadata": {
    "tags": [
     "hide"
    ]
   },
   "outputs": [],
   "source": [
    "# Used to make a prediction given a decision tree's rule and some inputs\n",
    "def make_prediction(rules,x,default):\n",
    "    if len(rules) == 0:\n",
    "        return default\n",
    "    \n",
    "    tups = []\n",
    "    next_rule = rules[0][0]\n",
    "\n",
    "    if type(next_rule) != tuple:\n",
    "        return next_rule\n",
    "    \n",
    "    col = next_rule[0]\n",
    "    \n",
    "    matching_value = x[col]\n",
    "    filter_rule = eq_rule(matching_value)\n",
    "    print(matching_value)\n",
    "\n",
    "    viable_rules = list(filter(filter_rule, rules))\n",
    "    \n",
    "    if len(viable_rules) == 0:\n",
    "        return default\n",
    "    \n",
    "    new_rules = list(map(lambda x: x[1:], viable_rules))\n",
    "\n",
    "    return make_prediction(new_rules, x, default)"
   ]
  },
  {
   "cell_type": "markdown",
   "metadata": {},
   "source": [
    "If you made a dictionary for your tree, you can use the `print_tree` function below to see what your function generated."
   ]
  },
  {
   "cell_type": "code",
   "execution_count": 61,
   "metadata": {},
   "outputs": [],
   "source": [
    "# if you want to print like me :)\n",
    "def print_tree(tree):\n",
    "    mytree = copy.deepcopy(tree)\n",
    "    def fix_keys(tree):\n",
    "        if type(tree) != dict:\n",
    "            if type(tree) == np.int64:\n",
    "                return int(tree)\n",
    "        new_tree = {}\n",
    "        for key in list(tree.keys()):\n",
    "            if type(key) == np.int64:\n",
    "                new_tree[int(key)] = tree[key]\n",
    "            else:\n",
    "                new_tree[key] = tree[key]\n",
    "        for key in new_tree.keys():\n",
    "            new_tree[key] = fix_keys(new_tree[key])\n",
    "        return new_tree\n",
    "    mytree = fix_keys(mytree)\n",
    "    print(json.dumps(mytree, indent=4, sort_keys=True))"
   ]
  },
  {
   "cell_type": "markdown",
   "metadata": {},
   "source": [
    "## Testing your Tree\n",
    "\n",
    "- We will use `sklearn`'s train_test_split to see how we did\n",
    "\n",
    "You can find the dataset and download it from the website. After that, just set the appropriate variables!\n",
    "```\n",
    "heart_disease = pd.read_csv(\"path to heart_disease.csv\")\n",
    "X2 = heart_disease.drop(columns=[\"disease_present\"])\n",
    "t = heart_disease[\"disease_present\"]\n",
    "```"
   ]
  },
  {
   "cell_type": "code",
   "execution_count": 62,
   "metadata": {},
   "outputs": [],
   "source": [
    "default = 0\n",
    "from sklearn.model_selection import train_test_split\n",
    "\n",
    "X2_train, X2_test, t_train, t_test = train_test_split(X2, t, test_size=0.3, random_state = 0)\n",
    "\n",
    "tree = tree_creation(X2_train,t_train)\n",
    "rules = generate_rules(tree)\n",
    "\n",
    "y_test = X2_test.apply(lambda x: make_prediction(rules,x,default),axis=1)"
   ]
  },
  {
   "cell_type": "markdown",
   "metadata": {},
   "source": [
    "### What does our tree look like?"
   ]
  },
  {
   "cell_type": "code",
   "execution_count": 63,
   "metadata": {},
   "outputs": [
    {
     "name": "stdout",
     "output_type": "stream",
     "text": [
      "{\n",
      "    \"thal\": {\n",
      "        \"0\": {\n",
      "            \"sex\": {\n",
      "                \"0\": 1,\n",
      "                \"1\": 0\n",
      "            }\n",
      "        },\n",
      "        \"1\": {\n",
      "            \"ca\": {\n",
      "                \"0\": {\n",
      "                    \"restecg\": {\n",
      "                        \"0\": 1,\n",
      "                        \"1\": {\n",
      "                            \"slope\": {\n",
      "                                \"0\": 0,\n",
      "                                \"1\": 1\n",
      "                            }\n",
      "                        }\n",
      "                    }\n",
      "                },\n",
      "                \"1\": 0,\n",
      "                \"2\": 0,\n",
      "                \"3\": 0\n",
      "            }\n",
      "        },\n",
      "        \"2\": {\n",
      "            \"ca\": {\n",
      "                \"0\": {\n",
      "                    \"restecg\": {\n",
      "                        \"0\": {\n",
      "                            \"cp\": {\n",
      "                                \"0\": {\n",
      "                                    \"slope\": {\n",
      "                                        \"1\": 1,\n",
      "                                        \"2\": {\n",
      "                                            \"sex\": {\n",
      "                                                \"0\": 1,\n",
      "                                                \"1\": 1\n",
      "                                            }\n",
      "                                        }\n",
      "                                    }\n",
      "                                },\n",
      "                                \"1\": {\n",
      "                                    \"sex\": {\n",
      "                                        \"0\": 1,\n",
      "                                        \"1\": {\n",
      "                                            \"slope\": {\n",
      "                                                \"1\": 1,\n",
      "                                                \"2\": 1\n",
      "                                            }\n",
      "                                        }\n",
      "                                    }\n",
      "                                },\n",
      "                                \"2\": 1,\n",
      "                                \"3\": {\n",
      "                                    \"sex\": {\n",
      "                                        \"0\": 1,\n",
      "                                        \"1\": {\n",
      "                                            \"exang\": {\n",
      "                                                \"0\": 1,\n",
      "                                                \"1\": 1\n",
      "                                            }\n",
      "                                        }\n",
      "                                    }\n",
      "                                }\n",
      "                            }\n",
      "                        },\n",
      "                        \"1\": {\n",
      "                            \"cp\": {\n",
      "                                \"0\": {\n",
      "                                    \"exang\": {\n",
      "                                        \"0\": 1,\n",
      "                                        \"1\": {\n",
      "                                            \"slope\": {\n",
      "                                                \"1\": 0,\n",
      "                                                \"2\": 1\n",
      "                                            }\n",
      "                                        }\n",
      "                                    }\n",
      "                                },\n",
      "                                \"1\": 1,\n",
      "                                \"2\": {\n",
      "                                    \"sex\": {\n",
      "                                        \"0\": 1,\n",
      "                                        \"1\": {\n",
      "                                            \"exang\": {\n",
      "                                                \"0\": {\n",
      "                                                    \"slope\": {\n",
      "                                                        \"0\": 1,\n",
      "                                                        \"1\": 0,\n",
      "                                                        \"2\": 1\n",
      "                                                    }\n",
      "                                                },\n",
      "                                                \"1\": 1\n",
      "                                            }\n",
      "                                        }\n",
      "                                    }\n",
      "                                },\n",
      "                                \"3\": 1\n",
      "                            }\n",
      "                        },\n",
      "                        \"2\": {\n",
      "                            \"cp\": {\n",
      "                                \"0\": 0,\n",
      "                                \"2\": 1\n",
      "                            }\n",
      "                        }\n",
      "                    }\n",
      "                },\n",
      "                \"1\": {\n",
      "                    \"cp\": {\n",
      "                        \"0\": 0,\n",
      "                        \"1\": 1,\n",
      "                        \"2\": 1,\n",
      "                        \"3\": 1\n",
      "                    }\n",
      "                },\n",
      "                \"2\": {\n",
      "                    \"exang\": {\n",
      "                        \"0\": {\n",
      "                            \"fbs\": {\n",
      "                                \"0\": {\n",
      "                                    \"sex\": {\n",
      "                                        \"0\": 1,\n",
      "                                        \"1\": {\n",
      "                                            \"restecg\": {\n",
      "                                                \"0\": 1,\n",
      "                                                \"1\": 0\n",
      "                                            }\n",
      "                                        }\n",
      "                                    }\n",
      "                                },\n",
      "                                \"1\": 0\n",
      "                            }\n",
      "                        },\n",
      "                        \"1\": 0\n",
      "                    }\n",
      "                },\n",
      "                \"3\": {\n",
      "                    \"cp\": {\n",
      "                        \"0\": 0,\n",
      "                        \"2\": {\n",
      "                            \"fbs\": {\n",
      "                                \"0\": 0,\n",
      "                                \"1\": 1\n",
      "                            }\n",
      "                        }\n",
      "                    }\n",
      "                },\n",
      "                \"4\": 1\n",
      "            }\n",
      "        },\n",
      "        \"3\": {\n",
      "            \"cp\": {\n",
      "                \"0\": {\n",
      "                    \"ca\": {\n",
      "                        \"0\": {\n",
      "                            \"slope\": {\n",
      "                                \"0\": 0,\n",
      "                                \"1\": 0,\n",
      "                                \"2\": {\n",
      "                                    \"restecg\": {\n",
      "                                        \"0\": {\n",
      "                                            \"exang\": {\n",
      "                                                \"0\": 0,\n",
      "                                                \"1\": 0\n",
      "                                            }\n",
      "                                        },\n",
      "                                        \"1\": {\n",
      "                                            \"exang\": {\n",
      "                                                \"0\": 1,\n",
      "                                                \"1\": 1\n",
      "                                            }\n",
      "                                        }\n",
      "                                    }\n",
      "                                }\n",
      "                            }\n",
      "                        },\n",
      "                        \"1\": {\n",
      "                            \"slope\": {\n",
      "                                \"1\": {\n",
      "                                    \"restecg\": {\n",
      "                                        \"0\": 0,\n",
      "                                        \"1\": {\n",
      "                                            \"exang\": {\n",
      "                                                \"0\": 0,\n",
      "                                                \"1\": 0\n",
      "                                            }\n",
      "                                        },\n",
      "                                        \"2\": 0\n",
      "                                    }\n",
      "                                },\n",
      "                                \"2\": 0\n",
      "                            }\n",
      "                        },\n",
      "                        \"2\": 0,\n",
      "                        \"3\": 0,\n",
      "                        \"4\": 0\n",
      "                    }\n",
      "                },\n",
      "                \"1\": {\n",
      "                    \"slope\": {\n",
      "                        \"0\": 0,\n",
      "                        \"1\": 1,\n",
      "                        \"2\": {\n",
      "                            \"fbs\": {\n",
      "                                \"0\": {\n",
      "                                    \"restecg\": {\n",
      "                                        \"0\": 1,\n",
      "                                        \"1\": 1\n",
      "                                    }\n",
      "                                },\n",
      "                                \"1\": 1\n",
      "                            }\n",
      "                        }\n",
      "                    }\n",
      "                },\n",
      "                \"2\": {\n",
      "                    \"slope\": {\n",
      "                        \"1\": {\n",
      "                            \"ca\": {\n",
      "                                \"0\": {\n",
      "                                    \"exang\": {\n",
      "                                        \"0\": 1,\n",
      "                                        \"1\": {\n",
      "                                            \"fbs\": {\n",
      "                                                \"0\": {\n",
      "                                                    \"restecg\": {\n",
      "                                                        \"0\": 1,\n",
      "                                                        \"1\": 0\n",
      "                                                    }\n",
      "                                                },\n",
      "                                                \"1\": 0\n",
      "                                            }\n",
      "                                        }\n",
      "                                    }\n",
      "                                },\n",
      "                                \"1\": 0,\n",
      "                                \"3\": 0\n",
      "                            }\n",
      "                        },\n",
      "                        \"2\": 1\n",
      "                    }\n",
      "                },\n",
      "                \"3\": {\n",
      "                    \"fbs\": {\n",
      "                        \"0\": {\n",
      "                            \"restecg\": {\n",
      "                                \"0\": 1,\n",
      "                                \"1\": {\n",
      "                                    \"slope\": {\n",
      "                                        \"1\": 0,\n",
      "                                        \"2\": 1\n",
      "                                    }\n",
      "                                }\n",
      "                            }\n",
      "                        },\n",
      "                        \"1\": 1\n",
      "                    }\n",
      "                }\n",
      "            }\n",
      "        }\n",
      "    }\n",
      "}\n"
     ]
    }
   ],
   "source": [
    "print_tree(tree)"
   ]
  },
  {
   "cell_type": "markdown",
   "metadata": {},
   "source": [
    "### How did our decision tree do with the test set?"
   ]
  },
  {
   "cell_type": "code",
   "execution_count": 64,
   "metadata": {},
   "outputs": [
    {
     "name": "stdout",
     "output_type": "stream",
     "text": [
      "Accuracy: 0.8241758241758241\n",
      "F1 score: 0.8367346938775511\n"
     ]
    }
   ],
   "source": [
    "from sklearn.metrics import accuracy_score, f1_score\n",
    "\n",
    "print(f'Accuracy: {accuracy_score(y_test, t_test)}')\n",
    "print(f'F1 score: {f1_score(y_test, t_test)}')"
   ]
  },
  {
   "cell_type": "markdown",
   "metadata": {},
   "source": [
    "### How does this compare with the battle-tried SciKit Learn version?"
   ]
  },
  {
   "cell_type": "code",
   "execution_count": 67,
   "metadata": {},
   "outputs": [
    {
     "name": "stdout",
     "output_type": "stream",
     "text": [
      "Accuracy: 0.7912087912087912\n",
      "F1 score: 0.7999999999999999\n"
     ]
    }
   ],
   "source": [
    "from sklearn.tree import DecisionTreeClassifier\n",
    "from sklearn.model_selection import cross_val_score\n",
    "\n",
    "clf = DecisionTreeClassifier(random_state=0,criterion='entropy',min_samples_split = 2)\n",
    "model = clf.fit(X2_train, t_train)\n",
    "\n",
    "y_model_test = model.predict(X2_test)\n",
    "\n",
    "print(f'Accuracy: {accuracy_score(y_model_test, t_test)}')\n",
    "print(f'F1 score: {f1_score(y_model_test, t_test)}')"
   ]
  },
  {
   "cell_type": "markdown",
   "metadata": {},
   "source": [
    "# Not bad!"
   ]
  },
  {
   "cell_type": "markdown",
   "metadata": {
    "tags": [
     "quiz"
    ]
   },
   "source": [
    "<qinline>\n",
    "\n",
    "<question>\n",
    "\n",
    "Why do you think our custom tree might have done better than SciKit-Learn's implementation?\n",
    "\n",
    "</question>\n",
    "\n",
    "<answer>\n",
    "\n",
    "This actually has to do with at least 2 things: when we decide to stop with building our tree (if we return when the infromation gain of the best split is 0) and how we decide which class from the target to choose if there is equal amount of both. If we vary those 2 things, our validation may be better. This is more luck based on the dataset then it is practically better. Can you think of ways to optimize this behavior? \n",
    "\n",
    "</answer>\n",
    "\n",
    "</qinline>"
   ]
  },
  {
   "cell_type": "markdown",
   "metadata": {},
   "source": [
    "### Citations\n",
    "- https://en.wikipedia.org/wiki/Entropy"
   ]
  }
 ],
 "metadata": {
  "celltoolbar": "Tags",
  "kernelspec": {
   "display_name": "Python 3",
   "language": "python",
   "name": "python3"
  },
  "language_info": {
   "codemirror_mode": {
    "name": "ipython",
    "version": 3
   },
   "file_extension": ".py",
   "mimetype": "text/x-python",
   "name": "python",
   "nbconvert_exporter": "python",
   "pygments_lexer": "ipython3",
   "version": "3.6.5"
  }
 },
 "nbformat": 4,
 "nbformat_minor": 2
}
